{
  "nbformat": 4,
  "nbformat_minor": 0,
  "metadata": {
    "colab": {
      "provenance": []
    },
    "kernelspec": {
      "name": "python3",
      "display_name": "Python 3"
    },
    "language_info": {
      "name": "python"
    }
  },
  "cells": [
    {
      "cell_type": "code",
      "execution_count": null,
      "metadata": {
        "colab": {
          "base_uri": "https://localhost:8080/"
        },
        "id": "tJA0WmqQ6kyU",
        "outputId": "cd6a437e-2f26-4e05-ae4b-b5c9fe3c2840"
      },
      "outputs": [
        {
          "output_type": "stream",
          "name": "stdout",
          "text": [
            " brownies\n",
            "{'mineral water': 34, 'turkey': 34, 'eggs': 31, 'spaghetti': 24, 'black tea': 23}\n",
            "5\n",
            "['mineral water', 'turkey', 'eggs', 'spaghetti', 'black tea']\n",
            "mineral water eggs eggs turkey eggs mineral water turkey eggs spaghetti black tea mineral water mineral water turkey eggs turkey black tea mineral water turkey eggs spaghetti black tea eggs black tea mineral water turkey eggs spaghetti black tea mineral water turkey eggs mineral water turkey eggs spaghetti black tea spaghetti black tea mineral water turkey mineral water turkey eggs spaghetti black tea mineral water turkey eggs mineral water turkey eggs spaghetti black tea mineral water turkey eggs spaghetti black tea eggs mineral water turkey eggs mineral water spaghetti turkey eggs spaghetti mineral water spaghetti black tea turkey mineral water mineral water mineral water turkey eggs spaghetti black tea turkey black tea mineral water turkey eggs spaghetti black tea mineral water turkey eggs mineral water turkey eggs spaghetti black tea turkey mineral water turkey eggs spaghetti black tea mineral water black tea turkey mineral water turkey eggs spaghetti mineral water spaghetti mineral water turkey eggs spaghetti mineral water turkey eggs spaghetti black tea mineral water turkey eggs mineral water turkey eggs spaghetti black tea mineral water turkey eggs spaghetti black tea turkey mineral water turkey eggs spaghetti black tea mineral water turkey eggs black tea mineral water turkey eggs spaghetti black tea root\n",
            "├── mineral water\n",
            "│   ├── eggs\n",
            "│   ├── turkey\n",
            "│   │   └── eggs\n",
            "│   │       ├── spaghetti\n",
            "│   │       │   └── black tea\n",
            "│   │       └── black tea\n",
            "│   ├── spaghetti\n",
            "│   │   └── black tea\n",
            "│   └── black tea\n",
            "├── eggs\n",
            "│   └── black tea\n",
            "├── turkey\n",
            "│   ├── eggs\n",
            "│   └── black tea\n",
            "├── black tea\n",
            "└── spaghetti\n",
            "    └── black tea\n"
          ]
        }
      ],
      "source": [
        "import numpy as np\n",
        "import pandas as pd\n",
        "from mlxtend.frequent_patterns import apriori, association_rules\n",
        "import itertools\n",
        "import openpyxl\n",
        "wb = openpyxl.load_workbook(\"50data_0_1.xlsx\")\n",
        "sh = wb['sheet1']\n",
        "data = pd.read_excel('50data_0_1.xlsx')\n",
        "print(sh.cell(1,2).value)\n",
        "no_col = sh.max_column\n",
        "no_col\n",
        "\n",
        "sum = df.sum()\n",
        "sum\n",
        "\n",
        "val = sum[sum >= 20].sort_values(ascending = False)\n",
        "val\n",
        "\n",
        "dict1 = val.to_dict()\n",
        "print(dict1)\n",
        "\n",
        "#convert dict into list\n",
        "def getList(dict):\n",
        "    list = []\n",
        "    for key in dict.keys():\n",
        "        list.append(key)\n",
        "         \n",
        "    return list\n",
        "\n",
        "list1 = getList(dict1)\n",
        "print(len(list1))\n",
        "#print(list1)\n",
        "\n",
        "print(list1)\n",
        "for i in range(2, sh.max_row+1):\n",
        "    for z in range(0,len(list1)):\n",
        "        for j in range(1,sh.max_column+1):\n",
        "             if sh.cell(i,j).value == 1:\n",
        "                    if list1[z]  == sh.cell(1,j).value:\n",
        "                        print(sh.cell(1,j).value , end = \" \")\n",
        "                        #str = str + \"/\" +sh.cell(1,j).value \n",
        "                        break;\n",
        "            \n",
        "               \n",
        "                  \n",
        "    #print(str)              \n",
        "   # print()\n",
        "                    \n",
        "from bigtree import list_to_tree, print_tree\n",
        "list = []\n",
        "\n",
        "for i in range(2, sh.max_row+1):\n",
        "    str = \"root\"\n",
        "    for z in range(0,len(list1)):\n",
        "        for j in range(1,sh.max_column+1):\n",
        "             if sh.cell(i,j).value == 1:\n",
        "                    if list1[z]  == sh.cell(1,j).value:\n",
        "                        #print(sh.cell(1,j).value , end = \" \")\n",
        "                        str = str + \"/\" +sh.cell(1,j).value \n",
        "                        break;    \n",
        "                  \n",
        "    list.append(str)\n",
        "    \n",
        "root = list_to_tree(list)\n",
        "print_tree(root)"
      ]
    },
    {
      "cell_type": "code",
      "source": [
        "!pip install bigtree"
      ],
      "metadata": {
        "colab": {
          "base_uri": "https://localhost:8080/"
        },
        "id": "Tmx9BWPI-UST",
        "outputId": "c1313e81-7c72-4c23-af1c-9cf535201bc8"
      },
      "execution_count": null,
      "outputs": [
        {
          "output_type": "stream",
          "name": "stdout",
          "text": [
            "Looking in indexes: https://pypi.org/simple, https://us-python.pkg.dev/colab-wheels/public/simple/\n",
            "Collecting bigtree\n",
            "  Downloading bigtree-0.7.4-py3-none-any.whl (50 kB)\n",
            "\u001b[2K     \u001b[90m━━━━━━━━━━━━━━━━━━━━━━━━━━━━━━━━━━━━━━━━\u001b[0m \u001b[32m51.0/51.0 KB\u001b[0m \u001b[31m4.4 MB/s\u001b[0m eta \u001b[36m0:00:00\u001b[0m\n",
            "\u001b[?25hRequirement already satisfied: pandas in /usr/local/lib/python3.8/dist-packages (from bigtree) (1.3.5)\n",
            "Requirement already satisfied: pytz>=2017.3 in /usr/local/lib/python3.8/dist-packages (from pandas->bigtree) (2022.7.1)\n",
            "Requirement already satisfied: numpy>=1.17.3 in /usr/local/lib/python3.8/dist-packages (from pandas->bigtree) (1.22.4)\n",
            "Requirement already satisfied: python-dateutil>=2.7.3 in /usr/local/lib/python3.8/dist-packages (from pandas->bigtree) (2.8.2)\n",
            "Requirement already satisfied: six>=1.5 in /usr/local/lib/python3.8/dist-packages (from python-dateutil>=2.7.3->pandas->bigtree) (1.15.0)\n",
            "Installing collected packages: bigtree\n",
            "Successfully installed bigtree-0.7.4\n"
          ]
        }
      ]
    }
  ]
}